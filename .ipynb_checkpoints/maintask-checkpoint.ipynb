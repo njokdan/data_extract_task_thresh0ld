{
 "cells": [
  {
   "cell_type": "code",
   "execution_count": 2,
   "id": "5fc562bc-a19c-4b98-9dfa-d7b83f35fef6",
   "metadata": {},
   "outputs": [
    {
     "name": "stdout",
     "output_type": "stream",
     "text": [
      "Requirement already satisfied: gspread in c:\\users\\njokdan\\anaconda3\\lib\\site-packages (3.6.0)\n",
      "Requirement already satisfied: requests>=2.2.1 in c:\\users\\njokdan\\anaconda3\\lib\\site-packages (from gspread) (2.26.0)\n",
      "Requirement already satisfied: google-auth>=1.12.0 in c:\\users\\njokdan\\anaconda3\\lib\\site-packages (from gspread) (2.16.0)\n",
      "Requirement already satisfied: google-auth-oauthlib>=0.4.1 in c:\\users\\njokdan\\anaconda3\\lib\\site-packages (from gspread) (0.8.0)\n",
      "Requirement already satisfied: six>=1.9.0 in c:\\users\\njokdan\\anaconda3\\lib\\site-packages (from google-auth>=1.12.0->gspread) (1.16.0)\n",
      "Requirement already satisfied: cachetools<6.0,>=2.0.0 in c:\\users\\njokdan\\anaconda3\\lib\\site-packages (from google-auth>=1.12.0->gspread) (5.3.0)\n",
      "Requirement already satisfied: pyasn1-modules>=0.2.1 in c:\\users\\njokdan\\anaconda3\\lib\\site-packages (from google-auth>=1.12.0->gspread) (0.2.8)\n",
      "Requirement already satisfied: rsa<5,>=3.1.4 in c:\\users\\njokdan\\anaconda3\\lib\\site-packages (from google-auth>=1.12.0->gspread) (4.9)\n",
      "Requirement already satisfied: requests-oauthlib>=0.7.0 in c:\\users\\njokdan\\anaconda3\\lib\\site-packages (from google-auth-oauthlib>=0.4.1->gspread) (1.3.1)\n",
      "Requirement already satisfied: pyasn1<0.5.0,>=0.4.6 in c:\\users\\njokdan\\anaconda3\\lib\\site-packages (from pyasn1-modules>=0.2.1->google-auth>=1.12.0->gspread) (0.4.8)\n",
      "Requirement already satisfied: idna<4,>=2.5 in c:\\users\\njokdan\\anaconda3\\lib\\site-packages (from requests>=2.2.1->gspread) (3.2)\n",
      "Requirement already satisfied: charset-normalizer~=2.0.0 in c:\\users\\njokdan\\anaconda3\\lib\\site-packages (from requests>=2.2.1->gspread) (2.0.4)\n",
      "Requirement already satisfied: urllib3<1.27,>=1.21.1 in c:\\users\\njokdan\\anaconda3\\lib\\site-packages (from requests>=2.2.1->gspread) (1.26.7)\n",
      "Requirement already satisfied: certifi>=2017.4.17 in c:\\users\\njokdan\\anaconda3\\lib\\site-packages (from requests>=2.2.1->gspread) (2021.10.8)\n",
      "Requirement already satisfied: oauthlib>=3.0.0 in c:\\users\\njokdan\\anaconda3\\lib\\site-packages (from requests-oauthlib>=0.7.0->google-auth-oauthlib>=0.4.1->gspread) (3.2.2)\n",
      "Note: you may need to restart the kernel to use updated packages.\n"
     ]
    }
   ],
   "source": [
    "pip install gspread"
   ]
  },
  {
   "cell_type": "code",
   "execution_count": 3,
   "id": "a0da57d5-778f-4a5c-9bb5-84c923a3b5dc",
   "metadata": {},
   "outputs": [
    {
     "name": "stdout",
     "output_type": "stream",
     "text": [
      "Requirement already satisfied: gspread-dataframe in c:\\users\\njokdan\\anaconda3\\lib\\site-packages (3.3.0)\n",
      "Requirement already satisfied: six>=1.12.0 in c:\\users\\njokdan\\anaconda3\\lib\\site-packages (from gspread-dataframe) (1.16.0)\n",
      "Requirement already satisfied: gspread>=3.0.0 in c:\\users\\njokdan\\anaconda3\\lib\\site-packages (from gspread-dataframe) (3.6.0)\n",
      "Requirement already satisfied: pandas>=0.24.0 in c:\\users\\njokdan\\anaconda3\\lib\\site-packages (from gspread-dataframe) (1.3.4)\n",
      "Requirement already satisfied: requests>=2.2.1 in c:\\users\\njokdan\\anaconda3\\lib\\site-packages (from gspread>=3.0.0->gspread-dataframe) (2.26.0)\n",
      "Requirement already satisfied: google-auth>=1.12.0 in c:\\users\\njokdan\\anaconda3\\lib\\site-packages (from gspread>=3.0.0->gspread-dataframe) (2.16.0)\n",
      "Requirement already satisfied: google-auth-oauthlib>=0.4.1 in c:\\users\\njokdan\\anaconda3\\lib\\site-packages (from gspread>=3.0.0->gspread-dataframe) (0.8.0)\n",
      "Requirement already satisfied: pyasn1-modules>=0.2.1 in c:\\users\\njokdan\\anaconda3\\lib\\site-packages (from google-auth>=1.12.0->gspread>=3.0.0->gspread-dataframe) (0.2.8)\n",
      "Requirement already satisfied: rsa<5,>=3.1.4 in c:\\users\\njokdan\\anaconda3\\lib\\site-packages (from google-auth>=1.12.0->gspread>=3.0.0->gspread-dataframe) (4.9)\n",
      "Requirement already satisfied: cachetools<6.0,>=2.0.0 in c:\\users\\njokdan\\anaconda3\\lib\\site-packages (from google-auth>=1.12.0->gspread>=3.0.0->gspread-dataframe) (5.3.0)\n",
      "Requirement already satisfied: requests-oauthlib>=0.7.0 in c:\\users\\njokdan\\anaconda3\\lib\\site-packages (from google-auth-oauthlib>=0.4.1->gspread>=3.0.0->gspread-dataframe) (1.3.1)\n",
      "Requirement already satisfied: python-dateutil>=2.7.3 in c:\\users\\njokdan\\anaconda3\\lib\\site-packages (from pandas>=0.24.0->gspread-dataframe) (2.8.2)\n",
      "Requirement already satisfied: numpy>=1.17.3 in c:\\users\\njokdan\\anaconda3\\lib\\site-packages (from pandas>=0.24.0->gspread-dataframe) (1.20.3)\n",
      "Requirement already satisfied: pytz>=2017.3 in c:\\users\\njokdan\\anaconda3\\lib\\site-packages (from pandas>=0.24.0->gspread-dataframe) (2021.3)\n",
      "Requirement already satisfied: pyasn1<0.5.0,>=0.4.6 in c:\\users\\njokdan\\anaconda3\\lib\\site-packages (from pyasn1-modules>=0.2.1->google-auth>=1.12.0->gspread>=3.0.0->gspread-dataframe) (0.4.8)\n",
      "Requirement already satisfied: certifi>=2017.4.17 in c:\\users\\njokdan\\anaconda3\\lib\\site-packages (from requests>=2.2.1->gspread>=3.0.0->gspread-dataframe) (2021.10.8)\n",
      "Requirement already satisfied: urllib3<1.27,>=1.21.1 in c:\\users\\njokdan\\anaconda3\\lib\\site-packages (from requests>=2.2.1->gspread>=3.0.0->gspread-dataframe) (1.26.7)\n",
      "Note: you may need to restart the kernel to use updated packages.\n",
      "Requirement already satisfied: charset-normalizer~=2.0.0 in c:\\users\\njokdan\\anaconda3\\lib\\site-packages (from requests>=2.2.1->gspread>=3.0.0->gspread-dataframe) (2.0.4)\n",
      "Requirement already satisfied: idna<4,>=2.5 in c:\\users\\njokdan\\anaconda3\\lib\\site-packages (from requests>=2.2.1->gspread>=3.0.0->gspread-dataframe) (3.2)\n",
      "Requirement already satisfied: oauthlib>=3.0.0 in c:\\users\\njokdan\\anaconda3\\lib\\site-packages (from requests-oauthlib>=0.7.0->google-auth-oauthlib>=0.4.1->gspread>=3.0.0->gspread-dataframe) (3.2.2)\n"
     ]
    }
   ],
   "source": [
    "pip install gspread-dataframe"
   ]
  },
  {
   "cell_type": "code",
   "execution_count": 4,
   "id": "db58f819-37b6-4516-9702-47361eae061b",
   "metadata": {},
   "outputs": [],
   "source": [
    "import requests\n",
    "import json\n",
    "from datetime import datetime, timedelta\n",
    "# import json\n",
    "import pandas as pd\n",
    "\n",
    "# Use the matplotlib library to create charts by assets and transaction volume\n",
    "import matplotlib.pyplot as plt\n",
    "\n",
    "import gspread\n",
    "from gspread_dataframe import set_with_dataframe\n",
    "from oauth2client.service_account import ServiceAccountCredentials"
   ]
  },
  {
   "cell_type": "markdown",
   "id": "0237ba6f-1d33-434c-8df0-2213e5a7e6ac",
   "metadata": {},
   "source": [
    "##### Google_sheet link below:\\n\n",
    "https://docs.google.com/spreadsheets/d/1RiWn9FMh0hrtH1nOHLifvApcwnBLyhbR_f_QtliLlYk/edit?hl=fr#gid=0"
   ]
  },
  {
   "cell_type": "markdown",
   "id": "0112c7da-7fe6-4181-85ca-ecf3c8315e7a",
   "metadata": {},
   "source": [
    "Determine transaction volumes in and out for the last 60 days."
   ]
  },
  {
   "cell_type": "code",
   "execution_count": 5,
   "id": "216bbba0-b0ad-41de-97e8-7daaa95c72f3",
   "metadata": {},
   "outputs": [],
   "source": [
    "# Define the Etherscan API endpoint for extracting transaction data\n",
    "urls = 'https://api.etherscan.io/api'"
   ]
  },
  {
   "cell_type": "code",
   "execution_count": 6,
   "id": "4b18e1b2-811f-4b67-ab23-aad629ce084d",
   "metadata": {},
   "outputs": [],
   "source": [
    "import datetime\n",
    "now = datetime.datetime.now()\n"
   ]
  },
  {
   "cell_type": "code",
   "execution_count": 7,
   "id": "ebbcd4d7-884f-4fca-bdd9-d521235ae7b4",
   "metadata": {},
   "outputs": [],
   "source": [
    "sixty_days_ago = now - datetime.timedelta(days=60)\n",
    "timestamp = int(sixty_days_ago.timestamp())"
   ]
  },
  {
   "cell_type": "code",
   "execution_count": 8,
   "id": "30182988-d757-4960-9324-7bb8a3ffb1a6",
   "metadata": {},
   "outputs": [],
   "source": [
    "import requests\n",
    "\n",
    "api_key = '74UQ4S8EW48KJJ4JRGPJHU2GZNB1PF4P78'\n",
    "url = f'https://api.etherscan.io/api?module=block&action=getblocknobytime&timestamp={timestamp}&closest=before&apikey={api_key}'\n",
    "\n",
    "response = requests.get(url)\n",
    "startblock = response.json()['result']"
   ]
  },
  {
   "cell_type": "code",
   "execution_count": null,
   "id": "40fad69c-6add-4e0a-bc01-df121c8b7b5b",
   "metadata": {},
   "outputs": [],
   "source": []
  },
  {
   "cell_type": "code",
   "execution_count": 9,
   "id": "7e828688-8b72-4b30-8af2-517883639f8a",
   "metadata": {},
   "outputs": [],
   "source": [
    "url = f'https://api.etherscan.io/api?module=proxy&action=eth_blockNumber&apikey={api_key}'\n",
    "response = requests.get(url)\n",
    "endblock = int(response.json()['result'], 16)\n"
   ]
  },
  {
   "cell_type": "code",
   "execution_count": null,
   "id": "9f48834e-ac36-4958-a3ea-2220ee749bbe",
   "metadata": {},
   "outputs": [],
   "source": []
  },
  {
   "cell_type": "code",
   "execution_count": 10,
   "id": "806c77f7-ab93-4a85-a8d8-f429041ab055",
   "metadata": {},
   "outputs": [],
   "source": [
    "wallet_addresses = ['0xd9ba1Dbe38eB76307ec275F11CEd907033961bA1', \n",
    "                    '0x4F196FdEdC51C7F0c9E33D1D9030d8EC5C5A238C', \n",
    "                    '0x36928500bc1dcd7af6a2b4008875cc336b927d57', \n",
    "                    '0x7c125C1d515b8945841b3d5144a060115C58725F',  \n",
    "                    '0xdB3c617cDd2fBf0bb4309C325F47678e37F096D9'\n",
    "                   ]"
   ]
  },
  {
   "cell_type": "code",
   "execution_count": 11,
   "id": "1ec08010-59b6-4368-91d7-ec1ab46b55b7",
   "metadata": {},
   "outputs": [],
   "source": [
    "in_v = []\n",
    "out_v = []\n",
    "for wallet_address in wallet_addresses:\n",
    "    # params = {'address': wallet_address, 'interval': '60d'}\n",
    "    # response = requests.get(api_endpoint, params=params)\n",
    "    # Define the parameters for the API call\n",
    "    params = {\n",
    "        'module': 'account',\n",
    "        'action': 'txlist',\n",
    "        'address': wallet_address, # you can use the wallet address you want to extract data for\n",
    "        'startblock': startblock, # you can use the startblock parameter to extract data for the last 60 days\n",
    "        'endblock': endblock,\n",
    "        'sort': 'desc',\n",
    "        'apikey': '74UQ4S8EW48KJJ4JRGPJHU2GZNB1PF4P78'\n",
    "    }\n",
    "    # Send the request to the Etherscan API\n",
    "    response = requests.get(urls, params=params)\n",
    "    datas = response.json()\n",
    "   \n",
    "    # data.append(response.json())\n",
    "    # Extract the transaction volumes in and out from the data\n",
    "    transactions = datas['result']\n",
    "    \n",
    "    in_volumes = []\n",
    "    out_volumes = []\n",
    "    for tx in transactions:\n",
    "        in_volumes.append(float(tx['value']) / (10**18))\n",
    "        out_volumes.append(float(tx['gasUsed']) * float(tx['gasPrice']) / (10**18))\n",
    "        \n",
    "    s_in_volumes = sum(in_volumes)\n",
    "    s_out_volumes = sum(out_volumes)\n",
    "    in_v.append(s_in_volumes )\n",
    "    out_v.append(s_out_volumes)\n",
    "    \n",
    "    # Print the total transaction volumes in and out\n",
    "    # print(\"Result Below:\")\n",
    "    # print(\"Total transaction volume in: \", s_in_volumes)\n",
    "    # print(\"Total transaction volume out: \", s_out_volumes)\n",
    "    # cumm_volumes = {wallet_address:{\n",
    "    #   \"in_volumes\": s_in_volumes,\n",
    "    #   \"out_volumes\": s_out_volumes \n",
    "    # }}\n",
    "    # transaction_volumes.append(cumm_volumes)\n",
    "    "
   ]
  },
  {
   "cell_type": "code",
   "execution_count": null,
   "id": "0281e4b3-2cc0-449f-bc2d-3998458a2f0b",
   "metadata": {},
   "outputs": [],
   "source": []
  },
  {
   "cell_type": "code",
   "execution_count": 12,
   "id": "21c104eb-6562-46c3-ac8b-996c4dabf6bd",
   "metadata": {},
   "outputs": [],
   "source": [
    "transaction_volumes = {\n",
    "  \"in_volumes\": in_v,\n",
    "  \"out_volumes\": out_v\n",
    "}"
   ]
  },
  {
   "cell_type": "code",
   "execution_count": 13,
   "id": "92b879ee-ace4-40d8-a379-d7d63279a0a6",
   "metadata": {},
   "outputs": [],
   "source": [
    "df = pd.DataFrame(transaction_volumes, index = wallet_addresses)"
   ]
  },
  {
   "cell_type": "markdown",
   "id": "c3382004-0f9d-45e7-9126-f922c720cec3",
   "metadata": {},
   "source": [
    "Displaying the In_volume and Out_volumes for the last 60 days for each of the addresses given"
   ]
  },
  {
   "cell_type": "code",
   "execution_count": 14,
   "id": "58c0c7f7-9f54-4663-af00-401aeb80c32b",
   "metadata": {},
   "outputs": [
    {
     "data": {
      "text/html": [
       "<div>\n",
       "<style scoped>\n",
       "    .dataframe tbody tr th:only-of-type {\n",
       "        vertical-align: middle;\n",
       "    }\n",
       "\n",
       "    .dataframe tbody tr th {\n",
       "        vertical-align: top;\n",
       "    }\n",
       "\n",
       "    .dataframe thead th {\n",
       "        text-align: right;\n",
       "    }\n",
       "</style>\n",
       "<table border=\"1\" class=\"dataframe\">\n",
       "  <thead>\n",
       "    <tr style=\"text-align: right;\">\n",
       "      <th></th>\n",
       "      <th>in_volumes</th>\n",
       "      <th>out_volumes</th>\n",
       "    </tr>\n",
       "  </thead>\n",
       "  <tbody>\n",
       "    <tr>\n",
       "      <th>0xd9ba1Dbe38eB76307ec275F11CEd907033961bA1</th>\n",
       "      <td>0.253344</td>\n",
       "      <td>0.256047</td>\n",
       "    </tr>\n",
       "    <tr>\n",
       "      <th>0x4F196FdEdC51C7F0c9E33D1D9030d8EC5C5A238C</th>\n",
       "      <td>0.000000</td>\n",
       "      <td>0.000878</td>\n",
       "    </tr>\n",
       "    <tr>\n",
       "      <th>0x36928500bc1dcd7af6a2b4008875cc336b927d57</th>\n",
       "      <td>0.000000</td>\n",
       "      <td>0.000357</td>\n",
       "    </tr>\n",
       "    <tr>\n",
       "      <th>0x7c125C1d515b8945841b3d5144a060115C58725F</th>\n",
       "      <td>0.119600</td>\n",
       "      <td>0.003238</td>\n",
       "    </tr>\n",
       "    <tr>\n",
       "      <th>0xdB3c617cDd2fBf0bb4309C325F47678e37F096D9</th>\n",
       "      <td>0.000336</td>\n",
       "      <td>0.001436</td>\n",
       "    </tr>\n",
       "  </tbody>\n",
       "</table>\n",
       "</div>"
      ],
      "text/plain": [
       "                                            in_volumes  out_volumes\n",
       "0xd9ba1Dbe38eB76307ec275F11CEd907033961bA1    0.253344     0.256047\n",
       "0x4F196FdEdC51C7F0c9E33D1D9030d8EC5C5A238C    0.000000     0.000878\n",
       "0x36928500bc1dcd7af6a2b4008875cc336b927d57    0.000000     0.000357\n",
       "0x7c125C1d515b8945841b3d5144a060115C58725F    0.119600     0.003238\n",
       "0xdB3c617cDd2fBf0bb4309C325F47678e37F096D9    0.000336     0.001436"
      ]
     },
     "execution_count": 14,
     "metadata": {},
     "output_type": "execute_result"
    }
   ],
   "source": [
    "df"
   ]
  },
  {
   "cell_type": "code",
   "execution_count": null,
   "id": "99fe0827-f79f-46cf-90b8-e6fa78f49632",
   "metadata": {},
   "outputs": [],
   "source": []
  },
  {
   "cell_type": "code",
   "execution_count": null,
   "id": "e7df1bab-69af-403c-a85a-3df343b0900a",
   "metadata": {},
   "outputs": [],
   "source": []
  },
  {
   "cell_type": "code",
   "execution_count": null,
   "id": "83f1d845-be59-4dc6-890f-af51e7df74be",
   "metadata": {},
   "outputs": [],
   "source": []
  },
  {
   "cell_type": "markdown",
   "id": "bb8b135a-e7ba-4867-a85b-a75a2069927a",
   "metadata": {},
   "source": [
    "##### Using an exchange rate comparison API provider, determine the value for the transaction in USD on transaction date.  \n",
    "##### coinmarketcap( I actually used coingecko api for this task)"
   ]
  },
  {
   "cell_type": "code",
   "execution_count": 15,
   "id": "07296b6a-3edc-4561-a9c9-b15762d64b8b",
   "metadata": {},
   "outputs": [],
   "source": [
    "exchange_rate_endpoint = 'https://api.coingecko.com/api/v3/exchange_rates'\n",
    "date = '2023-01-25'\n",
    "params = {'date': date}\n",
    "response = requests.get(exchange_rate_endpoint, params=params)\n",
    "data = response.json()\n",
    "exchange_rate = data['rates']['usd']"
   ]
  },
  {
   "cell_type": "code",
   "execution_count": 16,
   "id": "0eb1ebfb-37a5-4f0f-8fa9-e37b9f1ee40a",
   "metadata": {},
   "outputs": [
    {
     "data": {
      "text/plain": [
       "{'name': 'US Dollar', 'unit': '$', 'value': 22952.906, 'type': 'fiat'}"
      ]
     },
     "execution_count": 16,
     "metadata": {},
     "output_type": "execute_result"
    }
   ],
   "source": [
    "exchange_rate"
   ]
  },
  {
   "cell_type": "code",
   "execution_count": 17,
   "id": "e0dc1ab5-8ba7-4ec7-895b-1900bd77688d",
   "metadata": {},
   "outputs": [],
   "source": [
    "df1 = pd.Series(exchange_rate)"
   ]
  },
  {
   "cell_type": "code",
   "execution_count": 18,
   "id": "61060e54-9ab9-4def-b47d-1501d0f73ea8",
   "metadata": {},
   "outputs": [
    {
     "data": {
      "text/plain": [
       "name     US Dollar\n",
       "unit             $\n",
       "value    22952.906\n",
       "type          fiat\n",
       "dtype: object"
      ]
     },
     "execution_count": 18,
     "metadata": {},
     "output_type": "execute_result"
    }
   ],
   "source": [
    "df1"
   ]
  },
  {
   "cell_type": "code",
   "execution_count": 19,
   "id": "b9f2cbf2-01f1-4461-aba7-5868da88a448",
   "metadata": {},
   "outputs": [
    {
     "name": "stdout",
     "output_type": "stream",
     "text": [
      "So the value for the transaction in USD for fiat is 22952.906\n"
     ]
    }
   ],
   "source": [
    "print(f'So the value for the transaction in USD for',exchange_rate['type'],'is',exchange_rate['value'])"
   ]
  },
  {
   "cell_type": "markdown",
   "id": "f55fb3dc-a438-4157-8052-7182c62fc8ac",
   "metadata": {},
   "source": [
    "Export to a csv table using pandas for each asset type showing weekly and monthly transaction volume "
   ]
  },
  {
   "cell_type": "code",
   "execution_count": 20,
   "id": "a2e02b44-dcda-4b5e-95ab-1289407c7499",
   "metadata": {},
   "outputs": [],
   "source": [
    "wallet_addresses = {'ERC20':['0xd9ba1Dbe38eB76307ec275F11CEd907033961bA1', \n",
    "                    '0x4F196FdEdC51C7F0c9E33D1D9030d8EC5C5A238C', \n",
    "                    '0x36928500bc1dcd7af6a2b4008875cc336b927d57'], \n",
    "                    'BNB':['0x7c125C1d515b8945841b3d5144a060115C58725F'],  \n",
    "                    'BUSD':['0x73110795BEa14958bF5F4302ceb1890F009cCDAD'],  \n",
    "                    'BTC':['mxVFsFW5N4mu1HPkxPttorvocvzeZ7KZyk',\n",
    "                          '2N1TSArdd2pt9RoqE3LXY55ixpRE9e5aot8'],  \n",
    "                    'TRC-20':['TR9octGKwGi8EaBhphP8d8D6dTkSyMJKXW'],  \n",
    "                    'ETH':['0xdB3c617cDd2fBf0bb4309C325F47678e37F096D9']\n",
    "                   }"
   ]
  },
  {
   "cell_type": "code",
   "execution_count": null,
   "id": "8c0b17c3-63c7-4bae-96f4-568d79061360",
   "metadata": {},
   "outputs": [],
   "source": []
  },
  {
   "cell_type": "code",
   "execution_count": 28,
   "id": "412e3537-034f-4923-98b9-9b1943ea999a",
   "metadata": {},
   "outputs": [],
   "source": [
    "# Use the Etherscan API to get the transaction volume for a specific address\n",
    "url = \"https://api.etherscan.io/api\"\n",
    "\n",
    "asset_type = []\n",
    "weekly_trans = []\n",
    "monthly_trans = []\n",
    "transact = []\n",
    "for asset, wallet_address in wallet_addresses.items():\n",
    "    asset_type.append(asset)\n",
    "    \n",
    "    for address in wallet_address:\n",
    "        # print(asset)\n",
    "        # querystring = {\"module\":\"account\",\"action\":\"txlist\",\"address\":address,\"startblock\":0,\"endblock\":99999999,\"sort\":\"asc\"}\n",
    "        # response = requests.request(\"GET\", url, params=querystring)\n",
    "        # data = json.loads(response.text)\n",
    "        \n",
    "        # print(data)\n",
    "        \n",
    "        params = {\n",
    "            'module': 'account',\n",
    "            'action': 'txlist',\n",
    "            'address': address, # you can use the wallet address you want to extract data for\n",
    "            'startblock': startblock, # you can use the startblock parameter to extract data for the last 60 days\n",
    "            'endblock': endblock,\n",
    "            'sort': 'desc',\n",
    "            'apikey': '74UQ4S8EW48KJJ4JRGPJHU2GZNB1PF4P78'\n",
    "        }\n",
    "        # Send the request to the Etherscan API\n",
    "        response = requests.get(url, params=params)\n",
    "        data = response.json()\n",
    "        if data['message'] == \"OK\":\n",
    "            # print(data['result'])\n",
    "        # print(datas)\n",
    "\n",
    "            # Use the Pandas library to create a DataFrame to store the transaction volume information\n",
    "            df = pd.DataFrame(data['result'])\n",
    "            # df2 = pd.DataFrame(data['result'])\n",
    "            # # df2.to_csv('monthly_data.csv')\n",
    "            # df2['asset_type'] = asset\n",
    "            \n",
    "            # print(df.info())\n",
    "            # Use the Pandas library to add a new column to the DataFrame called \"Asset Type\" that contains the asset type for each transaction\n",
    "            df['asset_type'] = asset\n",
    "            # df[\"value\"] = df[\"value\"]/1000\n",
    "            # df[\"value\"] = df[\"value\"].astype(str).astype(int)\n",
    "            \n",
    "            # print(df.info())\n",
    "            # print(df)\n",
    "            # Use the Pandas library to set the \"Transaction Date\" column as the index of the DataFrame\n",
    "            df['Transaction_Date'] = pd.to_datetime(df['timeStamp'], unit='s')\n",
    "            # df = df.set_index('Transaction Date')\n",
    "            \n",
    "            # Create a new column 'week' and 'month' \n",
    "            df['week'] = df['Transaction_Date'].dt.strftime('%Y-%W')\n",
    "            df['month'] = df['Transaction_Date'].dt.strftime('%Y-%m')\n",
    "            transact.append(df) \n",
    "            \n",
    "            \n",
    "            \n",
    "df3 = pd.concat(transact)\n",
    "# print(df3)           \n",
    "df3.to_csv('monthly_data.csv')  \n",
    "\n",
    "# Group the data by 'asset_type', 'week' and 'month'\n",
    "weekly_volumes = df3.groupby(['asset_type', 'week', 'value']).sum(numeric_only=True)\n",
    "monthly_volumes = df3.groupby(['asset_type', 'month', 'value']).sum(numeric_only=True)\n",
    "\n",
    "# weekly_volumes = df3.groupby(['asset_type', 'value']).sum(numeric_only=True)\n",
    "# monthly_volumes = df3.groupby(['asset_type', 'value']).sum(numeric_only=True)\n",
    "# weekly_volumes.to_csv('weekly_data.csv')  \n",
    "# monthly_volumes.to_csv('monthly_data.csv')  \n",
    "# df.groupby(\"hello\").sum()\n",
    "                              \n",
    "# Index(['num1', 'num2'], dtype='object')\n",
    "\n",
    "# print(weekly_volume['value'])\n",
    "\n",
    "# Reset the index to get the desired format\n",
    "weekly_volumes = weekly_volumes.reset_index()\n",
    "monthly_volumes = monthly_volumes.reset_index()\n",
    "\n",
    "weekly_volumes.rename(columns={'value':'Weekly Volume'}, inplace=True)\n",
    "monthly_volumes.rename(columns={'value':'Monthly Volume'}, inplace=True)\n",
    "\n",
    "\n",
    "result = pd.merge(weekly_volumes, monthly_volumes, how='inner',\n",
    "                  left_on=['asset_type'],\n",
    "                  right_on=['asset_type'])\n",
    "\n",
    "# result = pd.concat([weekly_volumes, monthly_volumes])\n",
    "# Merge the DataFrames\n",
    "# result = pd.merge(weekly_volumes, monthly_volumes, how='inner', left_index=True,\n",
    "#                      right_index=True, suffixes=('', '_type'))\n",
    " \n",
    "# remove the duplicate columns\n",
    "# result.drop([i for i in result.columns if 'type' in i],\n",
    "#                axis=1, inplace=True)\n",
    "\n",
    "\n",
    "# # # Group the data by asset and transaction volume\n",
    "# result = result.groupby(['asset_type']).sum()\n",
    "\n",
    "# print(result)\n",
    "result.to_csv('result.csv', index=True)\n",
    "# print(weekly_volumes)\n",
    "# print(monthly_volumes)\n",
    "# # name1 = asset + 'weekly_volume.csv'\n",
    "# # name2 = asset + 'monthly_volume.csv'\n",
    "\n",
    "# # Export the data to a CSV file\n",
    "# weekly_volume.to_csv('weekly_volume.csv', index=False)\n",
    "# monthly_volume.to_csv('monthly_volume.csv', index=False)\n",
    "\n",
    "# Note: Please provide credentials to access the Google Sheet\n",
    "scope = [\"https://spreadsheets.google.com/feeds\",'https://www.googleapis.com/auth/spreadsheets',\"https://www.googleapis.com/auth/drive.file\",\"https://www.googleapis.com/auth/drive\"]\n",
    "creds = ServiceAccountCredentials.from_json_keyfile_name(\"client_id.json\", scope)\n",
    "client = gspread.authorize(creds)\n",
    "\n",
    "# Open the desired sheet\n",
    "sh = client.open(\"dataextra\")\n",
    "\n",
    "# Select the worksheet\n",
    "worksheet = sh.get_worksheet(0)\n",
    "\n",
    "# Clear the worksheet\n",
    "worksheet.clear()\n",
    "\n",
    "# Export the DataFrame to the worksheet\n",
    "set_with_dataframe(worksheet, result)\n",
    "\n",
    "\n",
    "\n",
    "\n",
    "            \n",
    "            # print(df.duplicated())\n",
    "            # df.to_csv('monthly_data.csv')\n",
    "            # Use the Pandas library to group the transactions by asset type and then use the resample() function to group the transactions by week\n",
    "#             weekly_volume = df.groupby(['Asset']).resample('W').sum()\n",
    "\n",
    "#             # Use the Pandas library to group the transactions by asset type and then use the resample() function to group the transactions by month\n",
    "#             monthly_volume = df.groupby(['Asset']).resample('M').sum()\n",
    "\n",
    "#             # Use the Pandas library to calculate the sum of the transaction volume for each group\n",
    "#             weekly_volume = weekly_volume[['value']]\n",
    "\n",
    "#             # Use the Pandas library to calculate the sum of the transaction volume for each group\n",
    "#             monthly_volume = monthly_volume[['value']]\n",
    "\n",
    "#             # Use the Pandas library to create a new DataFrame that contains the asset type, date range, and transaction volume\n",
    "# #             weekly_volume.rename(columns={'value':'Transaction Volume'}, inplace=True)\n",
    "\n",
    "# #             # Use the Pandas library to create a new DataFrame that contains the asset type, date range, and transaction volume\n",
    "# #             monthly_volume.rename(columns={'value':'Transaction Volume'}, inplace=True)\n",
    "\n",
    "#             # Use the Pandas library to display the new DataFrame\n",
    "#             print(\"Weekly Volume\",weekly_volume)\n",
    "\n",
    "#             # Use the Pandas library to display the new DataFrame\n",
    "#             print(\"Monthly Volume\",monthly_volume)\n",
    "            \n",
    "            # Use the pandas .to_csv() method to export the data to a CSV file\n",
    "            # weekly_volume.to_csv('weekly_data.csv')\n",
    "            # monthly_volume.to_csv('monthly_data.csv')\n",
    "            \n",
    "            \n",
    "            \n",
    "\n",
    "\n",
    "            # plt.figure(figsize=(10,5))\n",
    "            # plt.title('Transactions Volume by Asset')\n",
    "            # plt.xlabel('Asset')\n",
    "            # plt.ylabel('Transaction Volume')\n",
    "            # plt.bar(weekly_volume.index.get_level_values(0), weekly_volume['input'])\n",
    "            # plt.show()"
   ]
  },
  {
   "cell_type": "markdown",
   "id": "813909b6-d042-45fd-9c01-81d86c3ae729",
   "metadata": {},
   "source": [
    "Create charts by assets and transaction volume "
   ]
  },
  {
   "cell_type": "code",
   "execution_count": 27,
   "id": "bb5ba3b5-d727-4e29-be53-463c6f8dcc14",
   "metadata": {},
   "outputs": [
    {
     "data": {
      "image/png": "[encoded data removed]",
      "text/plain": [
       "<Figure size 720x360 with 1 Axes>"
      ]
     },
     "metadata": {
      "needs_background": "light"
     },
     "output_type": "display_data"
    }
   ],
   "source": [
    "plt.figure(figsize=(10,5))\n",
    "plt.title('Transactions Volume by Asset')\n",
    "plt.xlabel('Asset')\n",
    "plt.ylabel('Transaction Volume')\n",
    "plt.bar(weekly_volumes.index.get_level_values(0), weekly_volumes['Weekly Volume'])\n",
    "plt.show()"
   ]
  },
  {
   "cell_type": "markdown",
   "id": "e7fb8059-95df-4faa-a2b6-5b0aaee2b020",
   "metadata": {},
   "source": [
    "Please Note: the result cell 28 and image generated above is error prone and is subject to review"
   ]
  },
  {
   "cell_type": "code",
   "execution_count": null,
   "id": "e40e307c-8bd8-4e20-8fc9-23e21ad71bb1",
   "metadata": {},
   "outputs": [],
   "source": []
  },
  {
   "cell_type": "code",
   "execution_count": null,
   "id": "f6db0710-0af8-4041-9944-75ec685226c4",
   "metadata": {},
   "outputs": [],
   "source": []
  }
 ],
 "metadata": {
  "kernelspec": {
   "display_name": "Python 3 (ipykernel)",
   "language": "python",
   "name": "python3"
  },
  "language_info": {
   "codemirror_mode": {
    "name": "ipython",
    "version": 3
   },
   "file_extension": ".py",
   "mimetype": "text/x-python",
   "name": "python",
   "nbconvert_exporter": "python",
   "pygments_lexer": "ipython3",
   "version": "3.9.7"
  }
 },
 "nbformat": 4,
 "nbformat_minor": 5
}
